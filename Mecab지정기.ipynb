{
 "cells": [
  {
   "cell_type": "code",
   "execution_count": 13,
   "id": "05b299d1",
   "metadata": {},
   "outputs": [
    {
     "data": {
      "text/plain": [
       "['대우,,,,NNP,*,F,대우,*,*,*,*,*\\n',\n",
       " '구글,,,,NNP,*,T,구글,*,*,*,*,*\\n',\n",
       " '던파,,,,NNP,*,F,던파,*,*,*,*,*\\n',\n",
       " '던전엔파이터,,,,NNP,*,F,던전엔파이터,*,*,*,*,*\\n',\n",
       " '뉴이스트JR,,,,NNP,*,F,뉴이스트JR,*,*,*,*,*\\n']"
      ]
     },
     "execution_count": 13,
     "metadata": {},
     "output_type": "execute_result"
    }
   ],
   "source": [
    "with open(\"C:/mecab/user-dic/nnp.csv\", 'r', encoding='utf-8') as f: \n",
    "    file_data = f.readlines()\n",
    "file_data"
   ]
  },
  {
   "cell_type": "code",
   "execution_count": 5,
   "id": "b31fca7b",
   "metadata": {},
   "outputs": [],
   "source": [
    "file_data.append('던파,,,,NNP,*,F,던파,*,*,*,*,*\\n')\n",
    "file_data.append('던전엔파이터,,,,NNP,*,F,던전엔파이터,*,*,*,*,*\\n')\n",
    "file_data.append('뉴이스트JR,,,,NNP,*,F,뉴이스트JR,*,*,*,*,*\\n')\n",
    "with open(\"C:/mecab/user-dic/nnp.csv\", 'w', encoding='utf-8') as f: \n",
    "    for line in file_data: \n",
    "        f.write(line)"
   ]
  },
  {
   "cell_type": "code",
   "execution_count": 9,
   "id": "01827479",
   "metadata": {},
   "outputs": [
    {
     "name": "stdout",
     "output_type": "stream",
     "text": [
      " C 드라이브의 볼륨에는 이름이 없습니다.\n",
      " 볼륨 일련 번호: D2C7-BED0\n",
      "\n",
      " C:\\mecab 디렉터리\n",
      "\n",
      "2022-04-04  오전 01:27    <DIR>          .\n",
      "2022-04-04  오전 01:27    <DIR>          ..\n",
      "2017-07-01  오전 01:49         1,908,736 libmecab.dll\n",
      "2017-07-01  오전 01:49            29,940 libmecab.lib\n",
      "2017-07-01  오전 01:49           108,544 mecab.exe\n",
      "2017-07-01  오전 01:48            42,106 mecab.h\n",
      "2017-07-01  오전 01:49             5,272 mecab.lib\n",
      "2017-07-01  오전 01:49           108,544 mecab-cost-train.exe\n",
      "2017-07-01  오전 01:49             5,640 mecab-cost-train.lib\n",
      "2017-07-01  오전 01:49           108,544 mecab-dict-gen.exe\n",
      "2017-07-01  오전 01:49             5,586 mecab-dict-gen.lib\n",
      "2017-07-01  오전 01:49           108,544 mecab-dict-index.exe\n",
      "2017-07-01  오전 01:49             5,640 mecab-dict-index.lib\n",
      "2019-11-02  오후 08:43    <DIR>          mecab-ko-dic\n",
      "2019-11-02  오후 08:43               285 mecabrc\n",
      "2017-07-01  오전 01:49           108,544 mecab-system-eval.exe\n",
      "2017-07-01  오전 01:49             5,666 mecab-system-eval.lib\n",
      "2017-07-01  오전 01:49           108,544 mecab-test-gen.exe\n",
      "2017-07-01  오전 01:49             5,586 mecab-test-gen.lib\n",
      "2019-11-02  오후 08:43    <DIR>          tools\n",
      "2019-11-02  오후 08:43    <DIR>          user-dic\n",
      "              16개 파일           2,665,721 바이트\n",
      "               5개 디렉터리  343,425,581,056 바이트 남음\n"
     ]
    }
   ],
   "source": [
    "ls"
   ]
  },
  {
   "cell_type": "code",
   "execution_count": 12,
   "id": "d0751d5f",
   "metadata": {},
   "outputs": [
    {
     "name": "stderr",
     "output_type": "stream",
     "text": [
      "'.'은(는) 내부 또는 외부 명령, 실행할 수 있는 프로그램, 또는\n",
      "배치 파일이 아닙니다.\n"
     ]
    }
   ],
   "source": [
    "!./tools/add-userdic-win.ps1"
   ]
  },
  {
   "cell_type": "code",
   "execution_count": null,
   "id": "d6546919",
   "metadata": {},
   "outputs": [],
   "source": []
  },
  {
   "cell_type": "code",
   "execution_count": null,
   "id": "9bf7820d",
   "metadata": {},
   "outputs": [],
   "source": []
  },
  {
   "cell_type": "code",
   "execution_count": null,
   "id": "ed9d15d1",
   "metadata": {},
   "outputs": [],
   "source": []
  }
 ],
 "metadata": {
  "kernelspec": {
   "display_name": "Python 3 (ipykernel)",
   "language": "python",
   "name": "python3"
  },
  "language_info": {
   "codemirror_mode": {
    "name": "ipython",
    "version": 3
   },
   "file_extension": ".py",
   "mimetype": "text/x-python",
   "name": "python",
   "nbconvert_exporter": "python",
   "pygments_lexer": "ipython3",
   "version": "3.7.3"
  }
 },
 "nbformat": 4,
 "nbformat_minor": 5
}
