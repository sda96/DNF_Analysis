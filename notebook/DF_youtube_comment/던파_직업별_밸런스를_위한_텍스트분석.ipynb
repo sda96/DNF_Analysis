{
 "cells": [
  {
   "cell_type": "markdown",
   "id": "3501472f",
   "metadata": {},
   "source": [
    "## 1 Intro"
   ]
  },
  {
   "cell_type": "markdown",
   "id": "80d57995",
   "metadata": {},
   "source": [
    "던전엔파이터라는 게임은 2022년 4월 11일 기준 총 13명의 캐릭터와 각 캐릭터당 4~5개의 전직을 가지고 있어 총 63개의 전직을 가지고 있습니다.  \n",
    "다양한 캐릭터와 전직으로 유저들에게 각자 취향에 맞는 폭 넓은 선택지를 주는 것은 게임으로써는 굉장히 매력적인 제안이지만 이 전직의 개수가 너무 많아서 발생하는 문제들이 존재합니다.\n",
    "\n",
    "각 전직마다 서로 다른 컨셉을 가지고 스킬 구조나 시스템이 전혀 다르다 보니 새롭게 업데이트되어지는 방향에 따라서 수혜를 받는 전직도 있고 손해를 보는 전직도 있습니다. 경우에 따라서는 다른 전직과 내 전직간의 차이가 크게 발생하여 상대적 박탈감을 느끼고 게임을 그만두는 유저도 존재하게 됩니다.\n",
    "\n",
    "이러한 전직간의 간극을 메꾸기 위한 노력으로 유저들의 의견을 반영한 리뉴얼 패치나 높은 등급의 강화된 장비, 전직의 구조적 문제점을 해결 해주는 장비 장착등의 방법들이 있습니다.\n",
    "\n",
    "현재 던전엔파이터는 12월에 유저들이 제시한 문제들을 해결하기 위한 리뉴얼 패치를 진행하였으며 이번 3월달에는 캐릭터들의 고유한 스킬 구조를 변형하여 유저들에게 신선한 경험과 전직이 가진 구조적 문제점을 해결할 수 있도록 만드는 새로운 에픽 무기 '결전의 무기'를 출시하였습니다.\n",
    "\n",
    "하지만 단순히 패치를 진행하고 문제 해결을 위한 새로운 방법을 유저들에게 제시하였다고 끝나는 것이 아닌 이후 사후관리로써 새롭게 받은 내용에 대한 유저들의 피드백을 받아 앞으로의 밸런싱 방향성 정하면서, 아직도 해결하지 못한 문제가 있는지 확인 혹은 새롭게 발생한 문제등을 발견하는 것이 더욱 중요합니다.\n",
    "\n",
    "해당 jupyter notebook에서는 지금까지 진행되온 패치와 업데이트에 대한 유저들의 의견을 텍스트로 수집하기 위해서 Selenium이라는 패키지를 사용하여 '던파 공식 홈페이지 커뮤니티' 직업별 게시글을 웹 크롤링을 진행한 뒤 직업별로 어떠한 키워드에 집중을 하고 있고, 어떠한 점에 만족하고 어느 부분에 불만인지 파악하기 위해서 게시글을 학습한 고차원의 워드 임베딩을 PCA로 차원축소시킨 후 산점도로 시각화 하여 알아보도록 하겠습니다."
   ]
  },
  {
   "cell_type": "markdown",
   "id": "2c88841b",
   "metadata": {},
   "source": [
    "## 2 데이터 수집 및 전처리"
   ]
  },
  {
   "cell_type": "markdown",
   "id": "36cc072a",
   "metadata": {},
   "source": [
    "데이터는 가장 큰 변동이 있었던 110렙 만렙확장 업데이트 공지가 나온 3월2일 이후부터의 데이터를 모아주도록 하겠습니다."
   ]
  },
  {
   "cell_type": "code",
   "execution_count": null,
   "id": "0a2463ec",
   "metadata": {},
   "outputs": [],
   "source": [
    "https://df.nexon.com/df/community/dnfboard?mode=list&job=0&grow_type=1\n",
    "https://df.nexon.com/df/community/dnfboard?mode=list&job=15&grow_type=4"
   ]
  },
  {
   "cell_type": "code",
   "execution_count": null,
   "id": "f6b1b767",
   "metadata": {},
   "outputs": [],
   "source": [
    "https://df.nexon.com/df/community/dnfboard?p=web&mode=view&no=2648446&job=15&grow_type=4"
   ]
  },
  {
   "cell_type": "code",
   "execution_count": null,
   "id": "de7dfabc",
   "metadata": {},
   "outputs": [],
   "source": [
    "https://df.nexon.com/df/community/dnfboard?p=web&mode=view&no=2654275&job=8&grow_type=3"
   ]
  },
  {
   "cell_type": "code",
   "execution_count": 1,
   "id": "23623bca",
   "metadata": {},
   "outputs": [],
   "source": [
    "import pandas as pd \n",
    "from bs4 import BeautifulSoup \n",
    "from selenium import webdriver \n",
    "from selenium.webdriver.common.by import By\n",
    "from tqdm import tqdm \n",
    "import time \n",
    "import re"
   ]
  },
  {
   "cell_type": "code",
   "execution_count": null,
   "id": "401ce200",
   "metadata": {},
   "outputs": [],
   "source": []
  },
  {
   "cell_type": "code",
   "execution_count": null,
   "id": "c465acc5",
   "metadata": {},
   "outputs": [],
   "source": []
  },
  {
   "cell_type": "code",
   "execution_count": null,
   "id": "d82e2af0",
   "metadata": {},
   "outputs": [],
   "source": []
  },
  {
   "cell_type": "code",
   "execution_count": null,
   "id": "2d0b8653",
   "metadata": {},
   "outputs": [],
   "source": []
  }
 ],
 "metadata": {
  "kernelspec": {
   "display_name": "Python 3 (ipykernel)",
   "language": "python",
   "name": "python3"
  },
  "language_info": {
   "codemirror_mode": {
    "name": "ipython",
    "version": 3
   },
   "file_extension": ".py",
   "mimetype": "text/x-python",
   "name": "python",
   "nbconvert_exporter": "python",
   "pygments_lexer": "ipython3",
   "version": "3.7.3"
  }
 },
 "nbformat": 4,
 "nbformat_minor": 5
}
