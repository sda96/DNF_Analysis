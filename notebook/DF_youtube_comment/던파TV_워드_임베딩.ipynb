{
 "cells": [
  {
   "cell_type": "markdown",
   "id": "5c5c3444",
   "metadata": {},
   "source": [
    "## 1. 데이터 불러오기"
   ]
  },
  {
   "cell_type": "markdown",
   "id": "6ac15b64",
   "metadata": {},
   "source": [
    "- Selenium 패키지를 사용하여 2022년 4월 3일까지 게재된 '던파TV 채널'의 영상들에 있는 Title과 url을 수집한 뒤, url에 있는 video_id를 추출하였습니다.\n",
    "- 추출된 video_id로 id에 맞는 영상의 게시시간, 영상의 조회수, 영상의 좋아요 수를 수집하였습니다."
   ]
  },
  {
   "cell_type": "code",
   "execution_count": 1,
   "id": "ddcc6b32",
   "metadata": {},
   "outputs": [],
   "source": [
    "import matplotlib.pyplot as plt\n",
    "import pandas as pd \n",
    "from tqdm import tqdm \n",
    "import time \n",
    "import re\n",
    "from konlpy.tag import Mecab\n",
    "import plotly.express as px\n",
    "import numpy as np\n",
    "import seaborn as sns\n",
    "import matplotlib.pyplot as plt\n",
    "from wordcloud import WordCloud\n",
    "from collections import Counter\n",
    "from PIL import Image\n",
    "from collections import defaultdict\n",
    "from gensim.models import Word2Vec\n",
    "from gensim.models import KeyedVectors"
   ]
  },
  {
   "cell_type": "code",
   "execution_count": 2,
   "id": "a13d5084",
   "metadata": {},
   "outputs": [],
   "source": [
    "plt.rc(\"font\", family = \"Malgun Gothic\")\n",
    "sns.set(font=\"Malgun Gothic\", rc={\"axes.unicode_minus\":False})"
   ]
  },
  {
   "cell_type": "code",
   "execution_count": 3,
   "id": "328bb031",
   "metadata": {},
   "outputs": [
    {
     "data": {
      "text/html": [
       "<div>\n",
       "<style scoped>\n",
       "    .dataframe tbody tr th:only-of-type {\n",
       "        vertical-align: middle;\n",
       "    }\n",
       "\n",
       "    .dataframe tbody tr th {\n",
       "        vertical-align: top;\n",
       "    }\n",
       "\n",
       "    .dataframe thead th {\n",
       "        text-align: right;\n",
       "    }\n",
       "</style>\n",
       "<table border=\"1\" class=\"dataframe\">\n",
       "  <thead>\n",
       "    <tr style=\"text-align: right;\">\n",
       "      <th></th>\n",
       "      <th>title</th>\n",
       "      <th>video_id</th>\n",
       "      <th>video_date</th>\n",
       "      <th>video_view</th>\n",
       "      <th>video_like</th>\n",
       "    </tr>\n",
       "  </thead>\n",
       "  <tbody>\n",
       "    <tr>\n",
       "      <th>0</th>\n",
       "      <td>NEOPLE - 루키 4인팟이 전하는 입사 꿀팁</td>\n",
       "      <td>YOgOfpdHkRk</td>\n",
       "      <td>2022-03-30T04:24:50Z</td>\n",
       "      <td>2481</td>\n",
       "      <td>37</td>\n",
       "    </tr>\n",
       "    <tr>\n",
       "      <th>1</th>\n",
       "      <td>NEOPLE - 네오플과 함께한 16년</td>\n",
       "      <td>eJ76enP5JSQ</td>\n",
       "      <td>2022-03-30T04:24:45Z</td>\n",
       "      <td>2585</td>\n",
       "      <td>76</td>\n",
       "    </tr>\n",
       "    <tr>\n",
       "      <th>2</th>\n",
       "      <td>[던파] 우리는... 100의 민족입니까? (메이킹 필름)</td>\n",
       "      <td>dlg9e5vZpSM</td>\n",
       "      <td>2022-03-28T02:37:57Z</td>\n",
       "      <td>1863</td>\n",
       "      <td>52</td>\n",
       "    </tr>\n",
       "    <tr>\n",
       "      <th>3</th>\n",
       "      <td>[던파] 던.직.이(?) 감스트가 소개하는 110레벨 만렙 확장 업데이트</td>\n",
       "      <td>FkD3jqoXquA</td>\n",
       "      <td>2022-03-17T04:04:13Z</td>\n",
       "      <td>18021</td>\n",
       "      <td>380</td>\n",
       "    </tr>\n",
       "    <tr>\n",
       "      <th>4</th>\n",
       "      <td>[던파] 우리는... 100의 민족입니까?</td>\n",
       "      <td>HbZFryV0JQ8</td>\n",
       "      <td>2022-03-17T03:03:55Z</td>\n",
       "      <td>984382</td>\n",
       "      <td>872</td>\n",
       "    </tr>\n",
       "  </tbody>\n",
       "</table>\n",
       "</div>"
      ],
      "text/plain": [
       "                                      title     video_id  \\\n",
       "0                NEOPLE - 루키 4인팟이 전하는 입사 꿀팁  YOgOfpdHkRk   \n",
       "1                     NEOPLE - 네오플과 함께한 16년  eJ76enP5JSQ   \n",
       "2          [던파] 우리는... 100의 민족입니까? (메이킹 필름)  dlg9e5vZpSM   \n",
       "3  [던파] 던.직.이(?) 감스트가 소개하는 110레벨 만렙 확장 업데이트  FkD3jqoXquA   \n",
       "4                   [던파] 우리는... 100의 민족입니까?  HbZFryV0JQ8   \n",
       "\n",
       "             video_date  video_view  video_like  \n",
       "0  2022-03-30T04:24:50Z        2481          37  \n",
       "1  2022-03-30T04:24:45Z        2585          76  \n",
       "2  2022-03-28T02:37:57Z        1863          52  \n",
       "3  2022-03-17T04:04:13Z       18021         380  \n",
       "4  2022-03-17T03:03:55Z      984382         872  "
      ]
     },
     "execution_count": 3,
     "metadata": {},
     "output_type": "execute_result"
    }
   ],
   "source": [
    "title_id_dataset = pd.read_csv(\"../data/analysis_data/title_id_date_view_like.csv\", index_col=[0])\n",
    "title_id_dataset.head()"
   ]
  },
  {
   "cell_type": "markdown",
   "id": "52513250",
   "metadata": {},
   "source": [
    "- video_id마다 달려있는 댓글 내용, 댓글 작성자, 댓글 작성시간, 댓글 좋아요 수를 수집하였습니다."
   ]
  },
  {
   "cell_type": "code",
   "execution_count": 4,
   "id": "f98b8b05",
   "metadata": {},
   "outputs": [
    {
     "data": {
      "text/html": [
       "<div>\n",
       "<style scoped>\n",
       "    .dataframe tbody tr th:only-of-type {\n",
       "        vertical-align: middle;\n",
       "    }\n",
       "\n",
       "    .dataframe tbody tr th {\n",
       "        vertical-align: top;\n",
       "    }\n",
       "\n",
       "    .dataframe thead th {\n",
       "        text-align: right;\n",
       "    }\n",
       "</style>\n",
       "<table border=\"1\" class=\"dataframe\">\n",
       "  <thead>\n",
       "    <tr style=\"text-align: right;\">\n",
       "      <th></th>\n",
       "      <th>comment</th>\n",
       "      <th>author</th>\n",
       "      <th>author_date</th>\n",
       "      <th>author_like</th>\n",
       "      <th>video_id</th>\n",
       "    </tr>\n",
       "  </thead>\n",
       "  <tbody>\n",
       "    <tr>\n",
       "      <th>0</th>\n",
       "      <td>저는 이런 구직관련 마케팅도 너무 좋고 중요하다고 생각해요. 요즘 게임은 재미로만 ...</td>\n",
       "      <td>붐붐</td>\n",
       "      <td>2022-03-30T06:07:10Z</td>\n",
       "      <td>1</td>\n",
       "      <td>YOgOfpdHkRk</td>\n",
       "    </tr>\n",
       "    <tr>\n",
       "      <th>1</th>\n",
       "      <td>던파 진짜 많이개선되었죠</td>\n",
       "      <td>진 벤티</td>\n",
       "      <td>2022-04-03T04:35:57Z</td>\n",
       "      <td>0</td>\n",
       "      <td>YOgOfpdHkRk</td>\n",
       "    </tr>\n",
       "    <tr>\n",
       "      <th>2</th>\n",
       "      <td>개발자.. 개발자가 필요하다.. 존나 많은 개발자가..</td>\n",
       "      <td>ᄇᄇᄏ</td>\n",
       "      <td>2022-03-31T00:18:52Z</td>\n",
       "      <td>0</td>\n",
       "      <td>YOgOfpdHkRk</td>\n",
       "    </tr>\n",
       "    <tr>\n",
       "      <th>3</th>\n",
       "      <td>105 에픽 보조장비에 스킬공격력 증가를 추가로 8퍼센트 더 달아달라 ㅠㅠㅠ</td>\n",
       "      <td>버티는 마갤</td>\n",
       "      <td>2022-03-30T08:52:29Z</td>\n",
       "      <td>0</td>\n",
       "      <td>YOgOfpdHkRk</td>\n",
       "    </tr>\n",
       "    <tr>\n",
       "      <th>4</th>\n",
       "      <td>네오플 화이팅하새요</td>\n",
       "      <td>매드인형</td>\n",
       "      <td>2022-03-30T04:38:59Z</td>\n",
       "      <td>0</td>\n",
       "      <td>YOgOfpdHkRk</td>\n",
       "    </tr>\n",
       "  </tbody>\n",
       "</table>\n",
       "</div>"
      ],
      "text/plain": [
       "                                             comment  author  \\\n",
       "0  저는 이런 구직관련 마케팅도 너무 좋고 중요하다고 생각해요. 요즘 게임은 재미로만 ...      붐붐   \n",
       "1                                      던파 진짜 많이개선되었죠    진 벤티   \n",
       "2                     개발자.. 개발자가 필요하다.. 존나 많은 개발자가..     ᄇᄇᄏ   \n",
       "3         105 에픽 보조장비에 스킬공격력 증가를 추가로 8퍼센트 더 달아달라 ㅠㅠㅠ  버티는 마갤   \n",
       "4                                         네오플 화이팅하새요    매드인형   \n",
       "\n",
       "            author_date  author_like     video_id  \n",
       "0  2022-03-30T06:07:10Z            1  YOgOfpdHkRk  \n",
       "1  2022-04-03T04:35:57Z            0  YOgOfpdHkRk  \n",
       "2  2022-03-31T00:18:52Z            0  YOgOfpdHkRk  \n",
       "3  2022-03-30T08:52:29Z            0  YOgOfpdHkRk  \n",
       "4  2022-03-30T04:38:59Z            0  YOgOfpdHkRk  "
      ]
     },
     "execution_count": 4,
     "metadata": {},
     "output_type": "execute_result"
    }
   ],
   "source": [
    "total_comments = pd.read_csv(\"../data/analysis_data/total_comment.csv\", index_col=[0])\n",
    "total_comments.head()"
   ]
  },
  {
   "cell_type": "markdown",
   "id": "59035cae",
   "metadata": {},
   "source": [
    "## 2. 데이터 전처리"
   ]
  },
  {
   "cell_type": "markdown",
   "id": "6b195f94",
   "metadata": {},
   "source": [
    "### 2.1 중복 데이터 확인"
   ]
  },
  {
   "cell_type": "code",
   "execution_count": 5,
   "id": "4c4601ba",
   "metadata": {},
   "outputs": [
    {
     "name": "stdout",
     "output_type": "stream",
     "text": [
      "영상제목 데이터셋 중복 결과 확인 전: (1213, 5)\n",
      "영상제목 데이터셋 중복 결과 확인 후: (1213, 5)\n"
     ]
    }
   ],
   "source": [
    "print(f\"영상제목 데이터셋 중복 결과 확인 전: {title_id_dataset.shape}\")\n",
    "print(f\"영상제목 데이터셋 중복 결과 확인 후: {title_id_dataset.drop_duplicates().shape}\")"
   ]
  },
  {
   "cell_type": "code",
   "execution_count": 6,
   "id": "bffef6f0",
   "metadata": {},
   "outputs": [
    {
     "name": "stdout",
     "output_type": "stream",
     "text": [
      "댓글 데이터셋 중복 결과 확인 전: (71715, 5)\n",
      "댓글 데이터셋 중복 결과 확인 후: (71712, 5)\n"
     ]
    }
   ],
   "source": [
    "print(f\"댓글 데이터셋 중복 결과 확인 전: {total_comments.shape}\")\n",
    "print(f\"댓글 데이터셋 중복 결과 확인 후: {total_comments.drop_duplicates().shape}\")"
   ]
  },
  {
   "cell_type": "code",
   "execution_count": 7,
   "id": "a48282bb",
   "metadata": {},
   "outputs": [
    {
     "data": {
      "text/html": [
       "<div>\n",
       "<style scoped>\n",
       "    .dataframe tbody tr th:only-of-type {\n",
       "        vertical-align: middle;\n",
       "    }\n",
       "\n",
       "    .dataframe tbody tr th {\n",
       "        vertical-align: top;\n",
       "    }\n",
       "\n",
       "    .dataframe thead th {\n",
       "        text-align: right;\n",
       "    }\n",
       "</style>\n",
       "<table border=\"1\" class=\"dataframe\">\n",
       "  <thead>\n",
       "    <tr style=\"text-align: right;\">\n",
       "      <th></th>\n",
       "      <th>comment</th>\n",
       "      <th>author</th>\n",
       "      <th>author_date</th>\n",
       "      <th>author_like</th>\n",
       "      <th>video_id</th>\n",
       "    </tr>\n",
       "  </thead>\n",
       "  <tbody>\n",
       "    <tr>\n",
       "      <th>9</th>\n",
       "      <td>222🙂🤑w🤠22222@도독도독옹😀 비까지🙂 🙂🙂🙂😎🙂🤑😎🙂🙂😎😎🙂</td>\n",
       "      <td>re xsht</td>\n",
       "      <td>2020-08-28T07:18:12Z</td>\n",
       "      <td>0</td>\n",
       "      <td>NInrFWfVgQw</td>\n",
       "    </tr>\n",
       "    <tr>\n",
       "      <th>112</th>\n",
       "      <td>이거 라온님이 절반 불른거임? ㅎㄷㄷ</td>\n",
       "      <td>백민기</td>\n",
       "      <td>2016-07-21T13:12:35Z</td>\n",
       "      <td>0</td>\n",
       "      <td>Skgxe7qEZUE</td>\n",
       "    </tr>\n",
       "    <tr>\n",
       "      <th>94</th>\n",
       "      <td>순간화날뻔 &lt;br&gt;</td>\n",
       "      <td>박병종</td>\n",
       "      <td>2014-01-24T03:56:26Z</td>\n",
       "      <td>0</td>\n",
       "      <td>v_bpV-i0BCo</td>\n",
       "    </tr>\n",
       "  </tbody>\n",
       "</table>\n",
       "</div>"
      ],
      "text/plain": [
       "                                   comment   author           author_date  \\\n",
       "9    222🙂🤑w🤠22222@도독도독옹😀 비까지🙂 🙂🙂🙂😎🙂🤑😎🙂🙂😎😎🙂  re xsht  2020-08-28T07:18:12Z   \n",
       "112                   이거 라온님이 절반 불른거임? ㅎㄷㄷ      백민기  2016-07-21T13:12:35Z   \n",
       "94                              순간화날뻔 <br>      박병종  2014-01-24T03:56:26Z   \n",
       "\n",
       "     author_like     video_id  \n",
       "9              0  NInrFWfVgQw  \n",
       "112            0  Skgxe7qEZUE  \n",
       "94             0  v_bpV-i0BCo  "
      ]
     },
     "execution_count": 7,
     "metadata": {},
     "output_type": "execute_result"
    }
   ],
   "source": [
    "# 중복되는 데이터\n",
    "total_comments.iloc[np.arange(len(total_comments))[total_comments.reset_index(drop=True).duplicated()], :]"
   ]
  },
  {
   "cell_type": "code",
   "execution_count": 8,
   "id": "91cb6559",
   "metadata": {},
   "outputs": [
    {
     "name": "stdout",
     "output_type": "stream",
     "text": [
      "댓글 데이터셋 중복 제거 후: (71712, 5)\n"
     ]
    }
   ],
   "source": [
    "total_comments = total_comments.drop_duplicates()\n",
    "print(f\"댓글 데이터셋 중복 제거 후: {total_comments.shape}\")"
   ]
  },
  {
   "cell_type": "markdown",
   "id": "62599028",
   "metadata": {},
   "source": [
    "### 2.2 결측 데이터 확인"
   ]
  },
  {
   "cell_type": "code",
   "execution_count": 9,
   "id": "7dda97b7",
   "metadata": {},
   "outputs": [
    {
     "name": "stdout",
     "output_type": "stream",
     "text": [
      "<class 'pandas.core.frame.DataFrame'>\n",
      "Int64Index: 1213 entries, 0 to 1212\n",
      "Data columns (total 5 columns):\n",
      " #   Column      Non-Null Count  Dtype \n",
      "---  ------      --------------  ----- \n",
      " 0   title       1213 non-null   object\n",
      " 1   video_id    1213 non-null   object\n",
      " 2   video_date  1213 non-null   object\n",
      " 3   video_view  1213 non-null   int64 \n",
      " 4   video_like  1213 non-null   int64 \n",
      "dtypes: int64(2), object(3)\n",
      "memory usage: 56.9+ KB\n"
     ]
    }
   ],
   "source": [
    "title_id_dataset.info()"
   ]
  },
  {
   "cell_type": "code",
   "execution_count": 10,
   "id": "57e8275c",
   "metadata": {},
   "outputs": [
    {
     "name": "stdout",
     "output_type": "stream",
     "text": [
      "<class 'pandas.core.frame.DataFrame'>\n",
      "Int64Index: 71712 entries, 0 to 59\n",
      "Data columns (total 5 columns):\n",
      " #   Column       Non-Null Count  Dtype \n",
      "---  ------       --------------  ----- \n",
      " 0   comment      71712 non-null  object\n",
      " 1   author       71705 non-null  object\n",
      " 2   author_date  71712 non-null  object\n",
      " 3   author_like  71712 non-null  int64 \n",
      " 4   video_id     71712 non-null  object\n",
      "dtypes: int64(1), object(4)\n",
      "memory usage: 3.3+ MB\n"
     ]
    }
   ],
   "source": [
    "total_comments.info()"
   ]
  },
  {
   "cell_type": "markdown",
   "id": "805d0704",
   "metadata": {},
   "source": [
    "### 2.3 댓글 데이터에 적용시킬 텍스트 전처리"
   ]
  },
  {
   "cell_type": "markdown",
   "id": "5e259bbc",
   "metadata": {},
   "source": [
    "- html 태그 제거\n",
    "- 특수문자 제거\n",
    "- 반복되는 공백 제거\n",
    "- 앞 뒤 공백 제거\n",
    "- Mecab으로 형태소 단위로 문장 분절\n",
    "- 불용어 제거"
   ]
  },
  {
   "cell_type": "code",
   "execution_count": 11,
   "id": "1182d775",
   "metadata": {},
   "outputs": [],
   "source": [
    "def process(x, mecab, stopwords = False, split = False, min_len = None):\n",
    "    \n",
    "    # 같은 문장이 반복되는 경우\n",
    "    if \"<br>\" in x:\n",
    "        tmp = x.split(\"<br>\")\n",
    "        if tmp[0] == tmp[1]:\n",
    "            x = tmp[0]\n",
    "    \n",
    "    # html 태그, 특수문자, 공백 제거\n",
    "    x = re.sub(\"(<([^>]+)>)\",\" \", x)\n",
    "    x = re.sub(\"[^a-zA-Zㄱ-ㅎ가-힣0-9]\", \" \", x)\n",
    "    x = re.sub(\"[ ]+\", \" \", x)\n",
    "    x = x.strip()\n",
    "    \n",
    "    # 필요한 경우 형태소 분석\n",
    "    if split:\n",
    "        x = mecab.morphs(x)\n",
    "    \n",
    "    # 필요한 경우 불용어 제거\n",
    "    if stopwords:\n",
    "        x = [i for i in x if i not in stopwords]\n",
    "    \n",
    "    if min_len:\n",
    "        x = [i for i in x if len(i) >= min_len]\n",
    "    \n",
    "    return x\n",
    "\n",
    "mecab = Mecab(dicpath=r\"C:/mecab/mecab-ko-dic\")\n",
    "stopwords = [\"은\", \"는\", \"이\", \"가\", \"는데\", \"지만\", \"으로\", \"세요\", \n",
    "             \"에서\", \"습니다\", \"한다\", \"인데\", \"면서\", \"부터\", \"아요\",\n",
    "            \"ㅋㅋ\", \"ㅋㅋㅋ\"]"
   ]
  },
  {
   "cell_type": "code",
   "execution_count": null,
   "id": "ba148e86",
   "metadata": {},
   "outputs": [],
   "source": []
  },
  {
   "cell_type": "markdown",
   "id": "d50d1d5e",
   "metadata": {},
   "source": [
    "### 3.4 던파TV 댓글 워드 임베딩 시각화"
   ]
  },
  {
   "cell_type": "code",
   "execution_count": 80,
   "id": "bd12c12d",
   "metadata": {},
   "outputs": [
    {
     "data": {
      "text/plain": [
       "[['이런',\n",
       "  '구직',\n",
       "  '관련',\n",
       "  '마케팅',\n",
       "  '너무',\n",
       "  '중요',\n",
       "  '다고',\n",
       "  '생각',\n",
       "  '해요',\n",
       "  '요즘',\n",
       "  '게임',\n",
       "  '재미',\n",
       "  '아니',\n",
       "  '사람',\n",
       "  '많이',\n",
       "  '져서',\n",
       "  '부분',\n",
       "  '이나',\n",
       "  '스토리',\n",
       "  '게임',\n",
       "  '다양',\n",
       "  '방면',\n",
       "  '다양',\n",
       "  '경험',\n",
       "  '재미',\n",
       "  '누리',\n",
       "  '추세',\n",
       "  '니까',\n",
       "  '모쪼록',\n",
       "  '더욱',\n",
       "  '능력',\n",
       "  '던파',\n",
       "  '재미나',\n",
       "  '만들',\n",
       "  '도록',\n",
       "  '이런',\n",
       "  '활발',\n",
       "  '던파',\n",
       "  '소식',\n",
       "  '응원'],\n",
       " ['던파', '진짜', '많이', '개선'],\n",
       " ['개발자', '개발자', '필요', '존나', '개발자']]"
      ]
     },
     "execution_count": 80,
     "metadata": {},
     "output_type": "execute_result"
    }
   ],
   "source": [
    "only_comments = total_comments[\"comment\"].apply(lambda x : re.sub(\"[a-zA-Z0-9]\",\"\", x))\n",
    "only_comments = only_comments.apply(lambda x: process(x, mecab, stopwords, split=True, min_len=2))\n",
    "only_comments = only_comments.reset_index(drop=True)\n",
    "only_comments = [i for i in only_comments if len(i) != 0]\n",
    "only_comments[:3]"
   ]
  },
  {
   "cell_type": "code",
   "execution_count": 81,
   "id": "12b273e6",
   "metadata": {},
   "outputs": [
    {
     "data": {
      "text/plain": [
       "array([[-0.1427144 , -0.03938489,  0.3731141 , ..., -0.12849988,\n",
       "         0.09709261,  0.5746215 ],\n",
       "       [-0.27297565,  0.3144012 ,  0.19921504, ..., -0.24963453,\n",
       "         0.12622435,  0.60986525],\n",
       "       [-0.15068485, -0.05645111, -0.26192412, ..., -0.11017388,\n",
       "        -0.29905427, -0.07180203],\n",
       "       ...,\n",
       "       [-0.01842342,  0.00933992,  0.02509432, ..., -0.04208321,\n",
       "         0.0203252 ,  0.03548878],\n",
       "       [-0.01790248,  0.03890396,  0.03162378, ..., -0.0662951 ,\n",
       "         0.04679637,  0.05643147],\n",
       "       [-0.01429265,  0.02513109,  0.04478643, ..., -0.08449306,\n",
       "         0.02828773,  0.04390609]], dtype=float32)"
      ]
     },
     "execution_count": 81,
     "metadata": {},
     "output_type": "execute_result"
    }
   ],
   "source": [
    "model = Word2Vec(sentences=only_comments, vector_size=100, window=5, min_count=1, workers=4, sg=1)\n",
    "model.save(\"../word2vec.model\")\n",
    "word2vec_model = Word2Vec.load(\"../word2vec.model\")\n",
    "print(f\" (단어의 개수 , 워드 임베딩 차원 수) : {word2vec_model.wv.vectors.shape}\")\n",
    "word2vec_model.wv.vectors"
   ]
  },
  {
   "cell_type": "code",
   "execution_count": 108,
   "id": "5de302f7",
   "metadata": {},
   "outputs": [
    {
     "data": {
      "text/plain": [
       "[('패치', 0.8986139893531799),\n",
       " ('아빠', 0.8972020149230957),\n",
       " ('죽였', 0.8967894911766052),\n",
       " ('규모', 0.8505902886390686),\n",
       " ('구조', 0.8445562720298767),\n",
       " ('당연히', 0.8420690894126892),\n",
       " ('기준', 0.8371553421020508),\n",
       " ('놀음', 0.8340774178504944),\n",
       " ('조정', 0.8338874578475952),\n",
       " ('개판', 0.8295701146125793),\n",
       " ('적중', 0.8292899131774902),\n",
       " ('수치', 0.828061044216156),\n",
       " ('쓰레기', 0.8274418711662292),\n",
       " ('내놓', 0.8205669522285461),\n",
       " ('맞춰', 0.8203415274620056),\n",
       " ('일정', 0.819889485836029),\n",
       " ('고치', 0.8190508484840393),\n",
       " ('격차', 0.8183263540267944),\n",
       " ('맞추', 0.8177069425582886),\n",
       " ('방치', 0.8164471983909607),\n",
       " ('개선', 0.812507688999176),\n",
       " ('상시', 0.8116996884346008),\n",
       " ('개최', 0.8102497458457947),\n",
       " ('보정', 0.8088307976722717),\n",
       " ('인력', 0.808479368686676),\n",
       " ('데이터', 0.807478666305542),\n",
       " ('내역', 0.8073709607124329),\n",
       " ('병신', 0.8073379397392273),\n",
       " ('랍시고', 0.8070393800735474),\n",
       " ('사항', 0.8050667643547058),\n",
       " ('지속', 0.8031955361366272),\n",
       " ('패도', 0.8027116060256958),\n",
       " ('꼬라지', 0.8026133179664612),\n",
       " ('가치', 0.8008646368980408),\n",
       " ('유도', 0.8008540868759155),\n",
       " ('특색', 0.8008196353912354),\n",
       " ('한다고', 0.8007223010063171),\n",
       " ('완성도', 0.8003892302513123),\n",
       " ('상위', 0.7995609641075134),\n",
       " ('홍옥', 0.7995491027832031),\n",
       " ('티어', 0.7995341420173645),\n",
       " ('편의', 0.7995133996009827),\n",
       " ('낸다고', 0.7994682788848877),\n",
       " ('각종', 0.7993173003196716),\n",
       " ('단점', 0.7985252737998962),\n",
       " ('없애', 0.7983607649803162),\n",
       " ('시너지', 0.7983044981956482),\n",
       " ('장점', 0.7978339791297913),\n",
       " ('숫자', 0.7975366115570068),\n",
       " ('패키지', 0.7969921231269836),\n",
       " ('을려면', 0.7956522703170776),\n",
       " ('투자', 0.7941733002662659),\n",
       " ('문제점', 0.7938162088394165),\n",
       " ('고작', 0.7935556769371033),\n",
       " ('곱창', 0.7933405637741089),\n",
       " ('주기', 0.7927910685539246),\n",
       " ('수집', 0.7923910617828369),\n",
       " ('맞출', 0.792359471321106),\n",
       " ('에다가', 0.7920976877212524),\n",
       " ('준다고', 0.7920668125152588),\n",
       " ('요소', 0.7899613380432129),\n",
       " ('만든다고', 0.7897706627845764),\n",
       " ('요구', 0.7892141938209534),\n",
       " ('버퍼', 0.7890960574150085),\n",
       " ('우선', 0.7889614701271057),\n",
       " ('챙기', 0.7888312935829163),\n",
       " ('테스트', 0.788583517074585),\n",
       " ('대비', 0.7881569862365723),\n",
       " ('지정', 0.7879883646965027),\n",
       " ('노트', 0.787714958190918),\n",
       " ('이따위', 0.787533700466156),\n",
       " ('내주', 0.7864056825637817),\n",
       " ('해줘도', 0.7855129837989807),\n",
       " ('적어도', 0.7849213480949402),\n",
       " ('수익', 0.7845971584320068),\n",
       " ('늘어나', 0.784516453742981),\n",
       " ('기간', 0.7842598557472229),\n",
       " ('아이템', 0.7840772271156311),\n",
       " ('가까이', 0.7837015986442566),\n",
       " ('려면', 0.7836469411849976),\n",
       " ('예정', 0.7834678292274475),\n",
       " ('단위', 0.783401370048523),\n",
       " ('거할', 0.7832746505737305),\n",
       " ('놀이', 0.7827526926994324),\n",
       " ('했으니', 0.7826493978500366),\n",
       " ('철우', 0.782358705997467),\n",
       " ('이놈', 0.7822120189666748),\n",
       " ('발표', 0.7821404337882996),\n",
       " ('징징', 0.7818424701690674),\n",
       " ('단축', 0.781562864780426),\n",
       " ('든가', 0.781552255153656),\n",
       " ('넘어오', 0.7814213037490845),\n",
       " ('창난', 0.7813911437988281),\n",
       " ('인식', 0.7813172340393066),\n",
       " ('장사', 0.7811813354492188),\n",
       " ('고려', 0.7806416153907776),\n",
       " ('기만', 0.7804476618766785),\n",
       " ('자본', 0.7802827954292297),\n",
       " ('당연', 0.7799364328384399),\n",
       " ('분석', 0.7798975110054016)]"
      ]
     },
     "execution_count": 108,
     "metadata": {},
     "output_type": "execute_result"
    }
   ],
   "source": [
    "keyword_list = [\"루크\", \"로젠\", \"프레이\", \"시로코\", \"오즈마\"]\n",
    "word2vec_model.wv.most_similar(\"밸런스\", topn=100)"
   ]
  },
  {
   "cell_type": "code",
   "execution_count": 85,
   "id": "f1600768",
   "metadata": {},
   "outputs": [],
   "source": [
    "# 단어:단어임베딩 쌍의 dict 형성\n",
    "vocab_dict = defaultdict()\n",
    "for comment in only_comments:\n",
    "    for word in comment:\n",
    "        if word not in vocab_dict:\n",
    "            vocab_dict[word] = 0\n",
    "vocab_dict = dict(vocab_dict)            \n",
    "\n",
    "for word in vocab_dict:\n",
    "    vocab_dict[word] = word2vec_model.wv[word]"
   ]
  },
  {
   "cell_type": "code",
   "execution_count": 87,
   "id": "68ceb0a2",
   "metadata": {},
   "outputs": [
    {
     "data": {
      "text/plain": [
       "(31331, 100)"
      ]
     },
     "execution_count": 87,
     "metadata": {},
     "output_type": "execute_result"
    }
   ],
   "source": [
    "# 각 단어의 임베딩만 뽑아서 2D-array 형태로 만들어 줍니다.\n",
    "tmp_vector= []\n",
    "for vector in vocab_dict.values():\n",
    "    tmp_vector.append(vector)\n",
    "tmp_vector = np.array(tmp_vector)\n",
    "tmp_vector.shape"
   ]
  },
  {
   "cell_type": "code",
   "execution_count": 88,
   "id": "77b1101a",
   "metadata": {
    "scrolled": true
   },
   "outputs": [
    {
     "data": {
      "text/plain": [
       "(31331, 2)"
      ]
     },
     "execution_count": 88,
     "metadata": {},
     "output_type": "execute_result"
    }
   ],
   "source": [
    "# PCA로 기존 차원 수를 2개의 차원으로 축소시켜 줍니다.\n",
    "pca = PCA(n_components=2)\n",
    "pca_vectors = pca.fit_transform(tmp_vector)\n",
    "pca_vectors.shape"
   ]
  },
  {
   "cell_type": "code",
   "execution_count": 91,
   "id": "5e9d010f",
   "metadata": {},
   "outputs": [],
   "source": [
    "pca_vectors = pca_vectors[:100]"
   ]
  },
  {
   "cell_type": "code",
   "execution_count": 92,
   "id": "33d7534d",
   "metadata": {},
   "outputs": [
    {
     "ename": "IndexError",
     "evalue": "index 100 is out of bounds for axis 0 with size 100",
     "output_type": "error",
     "traceback": [
      "\u001b[1;31m---------------------------------------------------------------------------\u001b[0m",
      "\u001b[1;31mIndexError\u001b[0m                                Traceback (most recent call last)",
      "\u001b[1;32m~\\AppData\\Local\\Temp\\ipykernel_19740\\181703941.py\u001b[0m in \u001b[0;36m<module>\u001b[1;34m\u001b[0m\n\u001b[0;32m      6\u001b[0m \u001b[0mplt\u001b[0m\u001b[1;33m.\u001b[0m\u001b[0mtitle\u001b[0m\u001b[1;33m(\u001b[0m\u001b[1;34m\"Word Embedding Space\"\u001b[0m\u001b[1;33m,\u001b[0m\u001b[0msize\u001b[0m\u001b[1;33m=\u001b[0m\u001b[1;36m20\u001b[0m\u001b[1;33m)\u001b[0m\u001b[1;33m\u001b[0m\u001b[1;33m\u001b[0m\u001b[0m\n\u001b[0;32m      7\u001b[0m \u001b[1;32mfor\u001b[0m \u001b[0mi\u001b[0m\u001b[1;33m,\u001b[0m \u001b[0mword\u001b[0m \u001b[1;32min\u001b[0m \u001b[0menumerate\u001b[0m\u001b[1;33m(\u001b[0m\u001b[0mvocab_dict\u001b[0m\u001b[1;33m)\u001b[0m\u001b[1;33m:\u001b[0m\u001b[1;33m\u001b[0m\u001b[1;33m\u001b[0m\u001b[0m\n\u001b[1;32m----> 8\u001b[1;33m     \u001b[0mplt\u001b[0m\u001b[1;33m.\u001b[0m\u001b[0mannotate\u001b[0m\u001b[1;33m(\u001b[0m\u001b[0mword\u001b[0m\u001b[1;33m,\u001b[0m\u001b[0mxy\u001b[0m\u001b[1;33m=\u001b[0m\u001b[1;33m(\u001b[0m\u001b[0mpca_vectors\u001b[0m\u001b[1;33m[\u001b[0m\u001b[0mi\u001b[0m\u001b[1;33m,\u001b[0m\u001b[1;36m0\u001b[0m\u001b[1;33m]\u001b[0m\u001b[1;33m,\u001b[0m\u001b[0mpca_vectors\u001b[0m\u001b[1;33m[\u001b[0m\u001b[0mi\u001b[0m\u001b[1;33m,\u001b[0m\u001b[1;36m1\u001b[0m\u001b[1;33m]\u001b[0m\u001b[1;33m)\u001b[0m\u001b[1;33m)\u001b[0m\u001b[1;33m\u001b[0m\u001b[1;33m\u001b[0m\u001b[0m\n\u001b[0m",
      "\u001b[1;31mIndexError\u001b[0m: index 100 is out of bounds for axis 0 with size 100"
     ]
    },
    {
     "data": {
      "image/png": "[encoded data removed]",
      "text/plain": [
       "<Figure size 936x504 with 1 Axes>"
      ]
     },
     "metadata": {},
     "output_type": "display_data"
    }
   ],
   "source": [
    "import matplotlib.pyplot as plt\n",
    "plt.figure(figsize=(13,7))\n",
    "plt.scatter(pca_vectors[:,0], pca_vectors[:,1], linewidths=10, color='blue')\n",
    "plt.xlabel(\"PC1\",size=15)\n",
    "plt.ylabel(\"PC2\",size=15)\n",
    "plt.title(\"Word Embedding Space\",size=20)\n",
    "for i, word in enumerate(vocab_dict):\n",
    "    plt.annotate(word,xy=(pca_vectors[i,0],pca_vectors[i,1]))"
   ]
  },
  {
   "cell_type": "code",
   "execution_count": null,
   "id": "17bf0288",
   "metadata": {},
   "outputs": [],
   "source": [
    "### 3.4 던파TV 댓글 워드 임베딩 시각화\n",
    "\n",
    "only_comments = total_comments[\"comment\"].apply(lambda x : re.sub(\"[a-zA-Z0-9]\",\"\", x))\n",
    "only_comments = only_comments.apply(lambda x: process(x, mecab, stopwords, split=True, min_len=2))\n",
    "only_comments = only_comments.reset_index(drop=True)\n",
    "only_comments = [i for i in only_comments if len(i) != 0]\n",
    "only_comments[:3]\n",
    "\n",
    "model = Word2Vec(sentences=only_comments, vector_size=100, window=5, min_count=1, workers=4, sg=1)\n",
    "model.save(\"../word2vec.model\")\n",
    "word2vec_model = Word2Vec.load(\"../word2vec.model\")\n",
    "print(f\" (단어의 개수 , 워드 임베딩 차원 수) : {word2vec_model.wv.vectors.shape}\")\n",
    "word2vec_model.wv.vectors\n",
    "\n",
    "keyword_list = [\"루크\", \"로젠\", \"프레이\", \"시로코\", \"오즈마\"]\n",
    "word2vec_model.wv.most_similar(\"밸런스\", topn=100)\n",
    "\n",
    "# 단어:단어임베딩 쌍의 dict 형성\n",
    "vocab_dict = defaultdict()\n",
    "for comment in only_comments:\n",
    "    for word in comment:\n",
    "        if word not in vocab_dict:\n",
    "            vocab_dict[word] = 0\n",
    "vocab_dict = dict(vocab_dict)            \n",
    "\n",
    "for word in vocab_dict:\n",
    "    vocab_dict[word] = word2vec_model.wv[word]\n",
    "\n",
    "# 각 단어의 임베딩만 뽑아서 2D-array 형태로 만들어 줍니다.\n",
    "tmp_vector= []\n",
    "for vector in vocab_dict.values():\n",
    "    tmp_vector.append(vector)\n",
    "tmp_vector = np.array(tmp_vector)\n",
    "tmp_vector.shape\n",
    "\n",
    "# PCA로 기존 차원 수를 2개의 차원으로 축소시켜 줍니다.\n",
    "pca = PCA(n_components=2)\n",
    "pca_vectors = pca.fit_transform(tmp_vector)\n",
    "pca_vectors.shape\n",
    "\n",
    "pca_vectors = pca_vectors[:100]\n",
    "\n",
    "import matplotlib.pyplot as plt\n",
    "plt.figure(figsize=(13,7))\n",
    "plt.scatter(pca_vectors[:,0], pca_vectors[:,1], linewidths=10, color='blue')\n",
    "plt.xlabel(\"PC1\",size=15)\n",
    "plt.ylabel(\"PC2\",size=15)\n",
    "plt.title(\"Word Embedding Space\",size=20)\n",
    "for i, word in enumerate(vocab_dict):\n",
    "    plt.annotate(word,xy=(pca_vectors[i,0],pca_vectors[i,1]))"
   ]
  }
 ],
 "metadata": {
  "kernelspec": {
   "display_name": "Python 3 (ipykernel)",
   "language": "python",
   "name": "python3"
  },
  "language_info": {
   "codemirror_mode": {
    "name": "ipython",
    "version": 3
   },
   "file_extension": ".py",
   "mimetype": "text/x-python",
   "name": "python",
   "nbconvert_exporter": "python",
   "pygments_lexer": "ipython3",
   "version": "3.7.3"
  }
 },
 "nbformat": 4,
 "nbformat_minor": 5
}
