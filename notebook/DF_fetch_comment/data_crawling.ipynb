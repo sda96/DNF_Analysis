{
 "cells": [
  {
   "cell_type": "markdown",
   "id": "7c41c024",
   "metadata": {},
   "source": [
    "## 1. 개발자 노트 댓글 수집"
   ]
  },
  {
   "cell_type": "code",
   "execution_count": 1,
   "id": "7cc8543a",
   "metadata": {},
   "outputs": [],
   "source": [
    "import pandas as pd \n",
    "from bs4 import BeautifulSoup \n",
    "from selenium import webdriver \n",
    "from selenium.webdriver.common.by import By\n",
    "from collections import defaultdict\n",
    "from tqdm import tqdm \n",
    "import time \n",
    "import re"
   ]
  },
  {
   "cell_type": "code",
   "execution_count": 9,
   "id": "20404e74",
   "metadata": {},
   "outputs": [
    {
     "name": "stderr",
     "output_type": "stream",
     "text": [
      "C:\\Users\\park\\Anaconda3\\lib\\site-packages\\ipykernel_launcher.py:1: DeprecationWarning: executable_path has been deprecated, please pass in a Service object\n",
      "  \"\"\"Entry point for launching an IPython kernel.\n"
     ]
    }
   ],
   "source": [
    "driver = webdriver.Chrome(\"C:/Users/park/Desktop/Neople/chromedriver.exe\")\n",
    "driver.get('https://df.nexon.com/df/mediazone/magazine/devnote')"
   ]
  },
  {
   "cell_type": "code",
   "execution_count": 13,
   "id": "d18ed537",
   "metadata": {},
   "outputs": [],
   "source": [
    "contents = driver.find_element(by=By.XPATH, value = '//*[@id=\"container\"]/div[2]/div[2]/div[1]')\n",
    "before_url = contents.find_elements(by = By.XPATH, value = '//*[@id=\"container\"]/div[2]/div[2]/div[1]/ul/li/dl/dt/a')\n",
    "video_info_after = list(map(lambda x, y: (x.text, y.get_attribute('href')), before_url, before_url))"
   ]
  },
  {
   "cell_type": "code",
   "execution_count": 15,
   "id": "48a233ba",
   "metadata": {},
   "outputs": [
    {
     "data": {
      "text/html": [
       "<div>\n",
       "<style scoped>\n",
       "    .dataframe tbody tr th:only-of-type {\n",
       "        vertical-align: middle;\n",
       "    }\n",
       "\n",
       "    .dataframe tbody tr th {\n",
       "        vertical-align: top;\n",
       "    }\n",
       "\n",
       "    .dataframe thead th {\n",
       "        text-align: right;\n",
       "    }\n",
       "</style>\n",
       "<table border=\"1\" class=\"dataframe\">\n",
       "  <thead>\n",
       "    <tr style=\"text-align: right;\">\n",
       "      <th></th>\n",
       "      <th>title</th>\n",
       "      <th>url</th>\n",
       "    </tr>\n",
       "  </thead>\n",
       "  <tbody>\n",
       "    <tr>\n",
       "      <th>0</th>\n",
       "      <td>4월 업데이트와 진행 상황에 대해 말씀드립니다</td>\n",
       "      <td>https://df.nexon.com/df/mediazone/magazine/dev...</td>\n",
       "    </tr>\n",
       "    <tr>\n",
       "      <th>1</th>\n",
       "      <td>최고 레벨 확장의 방향성에 대해 말씀드립니다</td>\n",
       "      <td>https://df.nexon.com/df/mediazone/magazine/dev...</td>\n",
       "    </tr>\n",
       "    <tr>\n",
       "      <th>2</th>\n",
       "      <td>던전앤파이터 개발 방향성에 대해 말씀드립니다.</td>\n",
       "      <td>https://df.nexon.com/df/mediazone/magazine/dev...</td>\n",
       "    </tr>\n",
       "    <tr>\n",
       "      <th>3</th>\n",
       "      <td>새해 첫인사 드립니다</td>\n",
       "      <td>https://df.nexon.com/df/mediazone/magazine/dev...</td>\n",
       "    </tr>\n",
       "    <tr>\n",
       "      <th>4</th>\n",
       "      <td>안녕하세요. 던전앤파이터 윤명진입니다.</td>\n",
       "      <td>https://df.nexon.com/df/mediazone/magazine/dev...</td>\n",
       "    </tr>\n",
       "    <tr>\n",
       "      <th>5</th>\n",
       "      <td>11월 업데이트 관련 안내</td>\n",
       "      <td>https://df.nexon.com/df/mediazone/magazine/dev...</td>\n",
       "    </tr>\n",
       "    <tr>\n",
       "      <th>6</th>\n",
       "      <td>엠블렘 시스템 개편과 이후 방향에 대해서</td>\n",
       "      <td>https://df.nexon.com/df/mediazone/magazine/dev...</td>\n",
       "    </tr>\n",
       "  </tbody>\n",
       "</table>\n",
       "</div>"
      ],
      "text/plain": [
       "                       title  \\\n",
       "0  4월 업데이트와 진행 상황에 대해 말씀드립니다   \n",
       "1   최고 레벨 확장의 방향성에 대해 말씀드립니다   \n",
       "2  던전앤파이터 개발 방향성에 대해 말씀드립니다.   \n",
       "3                새해 첫인사 드립니다   \n",
       "4      안녕하세요. 던전앤파이터 윤명진입니다.   \n",
       "5             11월 업데이트 관련 안내   \n",
       "6     엠블렘 시스템 개편과 이후 방향에 대해서   \n",
       "\n",
       "                                                 url  \n",
       "0  https://df.nexon.com/df/mediazone/magazine/dev...  \n",
       "1  https://df.nexon.com/df/mediazone/magazine/dev...  \n",
       "2  https://df.nexon.com/df/mediazone/magazine/dev...  \n",
       "3  https://df.nexon.com/df/mediazone/magazine/dev...  \n",
       "4  https://df.nexon.com/df/mediazone/magazine/dev...  \n",
       "5  https://df.nexon.com/df/mediazone/magazine/dev...  \n",
       "6  https://df.nexon.com/df/mediazone/magazine/dev...  "
      ]
     },
     "execution_count": 15,
     "metadata": {},
     "output_type": "execute_result"
    }
   ],
   "source": [
    "url_dataset = pd.DataFrame(video_info_after, columns = [\"title\", \"url\"])\n",
    "url_dataset"
   ]
  },
  {
   "cell_type": "code",
   "execution_count": 147,
   "id": "d4ec5e88",
   "metadata": {},
   "outputs": [
    {
     "data": {
      "text/plain": [
       "array(['던전앤파이터 개발 방향성에 대해 말씀드립니다.',\n",
       "       'https://df.nexon.com/df/mediazone/magazine/devnote?p=web&mode=view&no=2622261'],\n",
       "      dtype=object)"
      ]
     },
     "execution_count": 147,
     "metadata": {},
     "output_type": "execute_result"
    }
   ],
   "source": [
    "url_dataset.iloc[:3,:].values[-1]"
   ]
  },
  {
   "cell_type": "code",
   "execution_count": 148,
   "id": "92bc1f9e",
   "metadata": {},
   "outputs": [
    {
     "name": "stderr",
     "output_type": "stream",
     "text": [
      "100%|███████████████████████████████████████████████████████████████████████████████████| 1/1 [03:03<00:00, 183.33s/it]\n"
     ]
    }
   ],
   "source": [
    "title_comment_df = pd.DataFrame()\n",
    "for title, url in tqdm([url_dataset.iloc[:3,:].values[-1]]):\n",
    "    driver.get(url)\n",
    "    total_list = []\n",
    "    while True:\n",
    "        comment_contents = driver.find_element(by=By.XPATH, value = '//*[@id=\"reply\"]/ul')\n",
    "        id_server_list = comment_contents.find_elements(by=By.XPATH, value = '//*[@id=\"reply\"]/ul/li/p[1]/span[2]')\n",
    "        date_list = comment_contents.find_elements(by=By.XPATH, value = '//*[@id=\"reply\"]/ul/li/p[1]/span[3]')\n",
    "        comment_list = comment_contents.find_elements(by=By.XPATH, value = '//*[@id=\"reply\"]/ul/li/p[2]')\n",
    "        id_date_comment_list = list(map(lambda x, y, z : x.text.split(\" |\") + [y.text, z.text],id_server_list, date_list, comment_list))\n",
    "        total_list += id_date_comment_list\n",
    "\n",
    "        current_url = driver.current_url\n",
    "        time.sleep(1)\n",
    "        driver.find_element(by=By.XPATH, value='//*[@id=\"reply\"]/div[2]/a[2]').click()\n",
    "        after_click_url = driver.current_url\n",
    "        if current_url == after_click_url:\n",
    "            break\n",
    "\n",
    "            \n",
    "    total_df = pd.DataFrame(total_list, columns=[\"user_id\", \"server\", \"date\", \"comment\"])        \n",
    "    total_df[\"title\"] = title\n",
    "    title_comment_df = pd.concat([title_comment_df, total_df], axis=0)    "
   ]
  },
  {
   "cell_type": "code",
   "execution_count": 150,
   "id": "c1c56b0b",
   "metadata": {},
   "outputs": [],
   "source": [
    "title_comment_df.to_csv(\"./던전엔파이터개발방향성에대해말씀드립니다.csv\")"
   ]
  },
  {
   "cell_type": "markdown",
   "id": "3cecca81",
   "metadata": {},
   "source": [
    "## 2. '던파나우' 크리쳐 시세 데이터 수집"
   ]
  },
  {
   "cell_type": "code",
   "execution_count": 2,
   "id": "2af0edee",
   "metadata": {},
   "outputs": [
    {
     "name": "stderr",
     "output_type": "stream",
     "text": [
      "C:\\Users\\park\\Anaconda3\\lib\\site-packages\\ipykernel_launcher.py:1: DeprecationWarning: executable_path has been deprecated, please pass in a Service object\n",
      "  \"\"\"Entry point for launching an IPython kernel.\n"
     ]
    }
   ],
   "source": [
    "driver = webdriver.Chrome(\"C:/Users/park/Desktop/Neople/chromedriver.exe\")\n",
    "driver.get('http://dnfnow.xyz/item?item_idx=4b358426ff59ed138a521b47a0b5cc06')"
   ]
  },
  {
   "cell_type": "code",
   "execution_count": 17,
   "id": "4947606c",
   "metadata": {},
   "outputs": [
    {
     "ename": "TypeError",
     "evalue": "get_attribute() missing 1 required positional argument: 'name'",
     "output_type": "error",
     "traceback": [
      "\u001b[1;31m---------------------------------------------------------------------------\u001b[0m",
      "\u001b[1;31mTypeError\u001b[0m                                 Traceback (most recent call last)",
      "\u001b[1;32m~\\AppData\\Local\\Temp\\ipykernel_13452\\3320271536.py\u001b[0m in \u001b[0;36m<module>\u001b[1;34m\u001b[0m\n\u001b[1;32m----> 1\u001b[1;33m \u001b[0mdriver\u001b[0m\u001b[1;33m.\u001b[0m\u001b[0mfind_element\u001b[0m\u001b[1;33m(\u001b[0m\u001b[0mby\u001b[0m\u001b[1;33m=\u001b[0m\u001b[0mBy\u001b[0m\u001b[1;33m.\u001b[0m\u001b[0mXPATH\u001b[0m\u001b[1;33m,\u001b[0m \u001b[0mvalue\u001b[0m \u001b[1;33m=\u001b[0m \u001b[1;34m'//*[@id=\"day\"]/div'\u001b[0m\u001b[1;33m)\u001b[0m\u001b[1;33m.\u001b[0m\u001b[0mget_attribute\u001b[0m\u001b[1;33m(\u001b[0m\u001b[1;33m)\u001b[0m\u001b[1;33m\u001b[0m\u001b[1;33m\u001b[0m\u001b[0m\n\u001b[0m",
      "\u001b[1;31mTypeError\u001b[0m: get_attribute() missing 1 required positional argument: 'name'"
     ]
    }
   ],
   "source": [
    "driver.find_element(by=By.XPATH, value = '//*[@id=\"day\"]/div').get_attribute()"
   ]
  },
  {
   "cell_type": "code",
   "execution_count": null,
   "id": "3820bb8b",
   "metadata": {},
   "outputs": [],
   "source": []
  },
  {
   "cell_type": "markdown",
   "id": "7e885a7e",
   "metadata": {},
   "source": [
    "## 3. '던파OFF' 결전, 근원 무기 채용 데이터 수집"
   ]
  },
  {
   "cell_type": "code",
   "execution_count": 18,
   "id": "d135ec98",
   "metadata": {},
   "outputs": [
    {
     "name": "stderr",
     "output_type": "stream",
     "text": [
      "C:\\Users\\park\\Anaconda3\\lib\\site-packages\\ipykernel_launcher.py:1: DeprecationWarning: executable_path has been deprecated, please pass in a Service object\n",
      "  \"\"\"Entry point for launching an IPython kernel.\n"
     ]
    }
   ],
   "source": [
    "driver = webdriver.Chrome(\"C:/Users/park/Desktop/Neople/chromedriver.exe\")\n",
    "driver.get('https://dunfaoff.com/equip_chart.df')"
   ]
  },
  {
   "cell_type": "code",
   "execution_count": 124,
   "id": "bda97ca2",
   "metadata": {},
   "outputs": [
    {
     "data": {
      "text/plain": [
       "['검신', '다크로드', '블러드 이블', '인다라천', '악귀나찰']"
      ]
     },
     "execution_count": 124,
     "metadata": {},
     "output_type": "execute_result"
    }
   ],
   "source": [
    "idx = 0\n",
    "job_weapon_dict = defaultdict()\n",
    "job_xpath = '//*[@id=\"select_div\"]/select'\n",
    "job_select = job_xpath + f\"/option[{idx + 1}]\"\n",
    "job_name_list = driver.find_element(by=By.XPATH, value = job_xpath).text\n",
    "\n",
    "job_list = list(map(lambda x : x.strip(), job_name_list.split(\"\\n\")))\n",
    "job_list = [i for i in job_list if len(i) > 1]\n",
    "job_list[:5]"
   ]
  },
  {
   "cell_type": "code",
   "execution_count": 125,
   "id": "256f3853",
   "metadata": {},
   "outputs": [],
   "source": [
    "while True:\n",
    "    try:\n",
    "        job_name = job_list[idx]\n",
    "    except IndexError:\n",
    "        break\n",
    "    job_select = job_xpath + f\"/option[{idx + 1}]\"\n",
    "    driver.find_element(by=By.XPATH, value = job_select).click()\n",
    "    time.sleep(1)\n",
    "    driver.find_element(by=By.XPATH, value = '//*[@id=\"searchbtn\"]').click()\n",
    "    time.sleep(1)\n",
    "\n",
    "    body = driver.find_element(by=By.XPATH, value = '//*[@id=\"back\"]/div/div[2]')\n",
    "    weapons = body.find_elements(by=By.XPATH, value = '//*[@id=\"back\"]/div/div[2]/div/div')\n",
    "    tmp = [i.text for i in weapons][2:]\n",
    "\n",
    "    job_weapon_dict[job_name] = tmp\n",
    "    idx += 1\n",
    "job_weapon_dict = dict(job_weapon_dict)    "
   ]
  },
  {
   "cell_type": "code",
   "execution_count": 192,
   "id": "5ac94d1c",
   "metadata": {
    "scrolled": false
   },
   "outputs": [
    {
     "name": "stderr",
     "output_type": "stream",
     "text": [
      "C:\\Users\\park\\Anaconda3\\lib\\site-packages\\ipykernel_launcher.py:8: SettingWithCopyWarning: \n",
      "A value is trying to be set on a copy of a slice from a DataFrame.\n",
      "Try using .loc[row_indexer,col_indexer] = value instead\n",
      "\n",
      "See the caveats in the documentation: https://pandas.pydata.org/pandas-docs/stable/user_guide/indexing.html#returning-a-view-versus-a-copy\n",
      "  \n",
      "C:\\Users\\park\\Anaconda3\\lib\\site-packages\\ipykernel_launcher.py:9: SettingWithCopyWarning: \n",
      "A value is trying to be set on a copy of a slice from a DataFrame.\n",
      "Try using .loc[row_indexer,col_indexer] = value instead\n",
      "\n",
      "See the caveats in the documentation: https://pandas.pydata.org/pandas-docs/stable/user_guide/indexing.html#returning-a-view-versus-a-copy\n",
      "  if __name__ == '__main__':\n"
     ]
    }
   ],
   "source": [
    "job_weapon_df = pd.DataFrame()\n",
    "for job in job_weapon_dict:\n",
    "    tmp_df = pd.DataFrame(job_weapon_dict[job], columns=[\"weapon\"])\n",
    "    tmp_df[\"job\"] = job\n",
    "    job_weapon_df = job_weapon_df.append(tmp_df)\n",
    "    \n",
    "weapon_105 = job_weapon_df[job_weapon_df[\"weapon\"].str.contains(\"근원을|결전의\")]    \n",
    "weapon_105[\"weapon_name\"] = weapon_105[\"weapon\"].apply(lambda x : x.split(\"\\n\")[0])\n",
    "weapon_105[\"weapon_ratio\"] = weapon_105[\"weapon\"].apply(lambda x : x.split(\"\\n\")[1])\n",
    "weapon_105 = weapon_105.reset_index(drop=True)\n",
    "\n",
    "weapon_105[\"weapon_count\"] = weapon_105[\"weapon_ratio\"].apply(lambda x : x.split()[0])\n",
    "weapon_105[\"weapon_percent\"] = weapon_105[\"weapon_ratio\"].apply(lambda x: x.split()[1])\n",
    "weapon_105[\"weapon_count\"] = weapon_105[\"weapon_count\"].apply(lambda x: int(re.sub(\",\",\"\",x)))"
   ]
  },
  {
   "cell_type": "code",
   "execution_count": 220,
   "id": "03211662",
   "metadata": {},
   "outputs": [],
   "source": [
    "weapon_105.to_csv(\"./20220426_weapon_count.csv\")"
   ]
  },
  {
   "cell_type": "code",
   "execution_count": 221,
   "id": "e44878c7",
   "metadata": {
    "scrolled": true
   },
   "outputs": [],
   "source": [
    "tmp = []\n",
    "for name in weapon_105[\"weapon_name\"]:\n",
    "    if \"결전의\" in name:\n",
    "        tmp += [\"결전 무기\"]\n",
    "    else:\n",
    "        tmp += [\"근원 무기\"]\n",
    "weapon_105[\"new_name\"] = tmp\n",
    "result = weapon_105[\"weapon_count\"]\n",
    "result.index = weapon_105[\"new_name\"] + \" \" + weapon_105[\"job\"]"
   ]
  },
  {
   "cell_type": "code",
   "execution_count": 225,
   "id": "b2ae264e",
   "metadata": {},
   "outputs": [
    {
     "data": {
      "text/html": [
       "<div>\n",
       "<style scoped>\n",
       "    .dataframe tbody tr th:only-of-type {\n",
       "        vertical-align: middle;\n",
       "    }\n",
       "\n",
       "    .dataframe tbody tr th {\n",
       "        vertical-align: top;\n",
       "    }\n",
       "\n",
       "    .dataframe thead th {\n",
       "        text-align: right;\n",
       "    }\n",
       "</style>\n",
       "<table border=\"1\" class=\"dataframe\">\n",
       "  <thead>\n",
       "    <tr style=\"text-align: right;\">\n",
       "      <th></th>\n",
       "      <th>weapon_count</th>\n",
       "    </tr>\n",
       "  </thead>\n",
       "  <tbody>\n",
       "    <tr>\n",
       "      <th>근원 무기 검신</th>\n",
       "      <td>6269</td>\n",
       "    </tr>\n",
       "    <tr>\n",
       "      <th>결전 무기 검신</th>\n",
       "      <td>2354</td>\n",
       "    </tr>\n",
       "    <tr>\n",
       "      <th>결전 무기 다크로드</th>\n",
       "      <td>3886</td>\n",
       "    </tr>\n",
       "    <tr>\n",
       "      <th>근원 무기 다크로드</th>\n",
       "      <td>1552</td>\n",
       "    </tr>\n",
       "    <tr>\n",
       "      <th>결전 무기 블러드 이블</th>\n",
       "      <td>4826</td>\n",
       "    </tr>\n",
       "    <tr>\n",
       "      <th>...</th>\n",
       "      <td>...</td>\n",
       "    </tr>\n",
       "    <tr>\n",
       "      <th>결전 무기 갓파더</th>\n",
       "      <td>834</td>\n",
       "    </tr>\n",
       "    <tr>\n",
       "      <th>근원 무기 패스파인더</th>\n",
       "      <td>320</td>\n",
       "    </tr>\n",
       "    <tr>\n",
       "      <th>결전 무기 패스파인더</th>\n",
       "      <td>221</td>\n",
       "    </tr>\n",
       "    <tr>\n",
       "      <th>근원 무기 레퀴엠</th>\n",
       "      <td>1703</td>\n",
       "    </tr>\n",
       "    <tr>\n",
       "      <th>결전 무기 레퀴엠</th>\n",
       "      <td>1409</td>\n",
       "    </tr>\n",
       "  </tbody>\n",
       "</table>\n",
       "<p>126 rows × 1 columns</p>\n",
       "</div>"
      ],
      "text/plain": [
       "              weapon_count\n",
       "근원 무기 검신              6269\n",
       "결전 무기 검신              2354\n",
       "결전 무기 다크로드            3886\n",
       "근원 무기 다크로드            1552\n",
       "결전 무기 블러드 이블          4826\n",
       "...                    ...\n",
       "결전 무기 갓파더              834\n",
       "근원 무기 패스파인더            320\n",
       "결전 무기 패스파인더            221\n",
       "근원 무기 레퀴엠             1703\n",
       "결전 무기 레퀴엠             1409\n",
       "\n",
       "[126 rows x 1 columns]"
      ]
     },
     "execution_count": 225,
     "metadata": {},
     "output_type": "execute_result"
    }
   ],
   "source": [
    "result = pd.DataFrame(result.sum(level=0))\n",
    "result"
   ]
  }
 ],
 "metadata": {
  "kernelspec": {
   "display_name": "Python 3 (ipykernel)",
   "language": "python",
   "name": "python3"
  },
  "language_info": {
   "codemirror_mode": {
    "name": "ipython",
    "version": 3
   },
   "file_extension": ".py",
   "mimetype": "text/x-python",
   "name": "python",
   "nbconvert_exporter": "python",
   "pygments_lexer": "ipython3",
   "version": "3.7.3"
  }
 },
 "nbformat": 4,
 "nbformat_minor": 5
}
